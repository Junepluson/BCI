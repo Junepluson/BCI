{
 "cells": [
  {
   "cell_type": "code",
   "execution_count": 1,
   "id": "a2a6c108-5038-4eff-acf7-c29f97065899",
   "metadata": {},
   "outputs": [
    {
     "name": "stdout",
     "output_type": "stream",
     "text": [
      "Requirement already satisfied: moabb in /opt/miniconda3/envs/winterurp/lib/python3.10/site-packages (1.1.1)\n",
      "Requirement already satisfied: numpy in /opt/miniconda3/envs/winterurp/lib/python3.10/site-packages (1.26.4)\n",
      "Requirement already satisfied: scikit-learn in /opt/miniconda3/envs/winterurp/lib/python3.10/site-packages (1.6.1)\n",
      "Requirement already satisfied: PyYAML<7.0,>=6.0 in /opt/miniconda3/envs/winterurp/lib/python3.10/site-packages (from moabb) (6.0.2)\n",
      "Requirement already satisfied: coverage<8.0.0,>=7.0.1 in /opt/miniconda3/envs/winterurp/lib/python3.10/site-packages (from moabb) (7.6.10)\n",
      "Requirement already satisfied: edfio<0.5.0,>=0.4.2 in /opt/miniconda3/envs/winterurp/lib/python3.10/site-packages (from moabb) (0.4.5)\n",
      "Requirement already satisfied: edflib-python<2.0.0,>=1.0.6 in /opt/miniconda3/envs/winterurp/lib/python3.10/site-packages (from moabb) (1.0.8)\n",
      "Requirement already satisfied: h5py<4.0.0,>=3.10.0 in /opt/miniconda3/envs/winterurp/lib/python3.10/site-packages (from moabb) (3.12.1)\n",
      "Requirement already satisfied: matplotlib<4.0.0,>=3.6.2 in /opt/miniconda3/envs/winterurp/lib/python3.10/site-packages (from moabb) (3.10.0)\n",
      "Requirement already satisfied: memory-profiler<0.62.0,>=0.61.0 in /opt/miniconda3/envs/winterurp/lib/python3.10/site-packages (from moabb) (0.61.0)\n",
      "Requirement already satisfied: mne<2.0.0,>=1.7.0 in /opt/miniconda3/envs/winterurp/lib/python3.10/site-packages (from moabb) (1.9.0)\n",
      "Requirement already satisfied: mne-bids<0.15,>=0.14 in /opt/miniconda3/envs/winterurp/lib/python3.10/site-packages (from moabb) (0.14)\n",
      "Requirement already satisfied: pandas<2.0.0,>=1.5.2 in /opt/miniconda3/envs/winterurp/lib/python3.10/site-packages (from moabb) (1.5.3)\n",
      "Requirement already satisfied: pooch<2.0.0,>=1.6.0 in /opt/miniconda3/envs/winterurp/lib/python3.10/site-packages (from moabb) (1.8.2)\n",
      "Requirement already satisfied: pyriemann<0.7,>=0.6 in /opt/miniconda3/envs/winterurp/lib/python3.10/site-packages (from moabb) (0.6)\n",
      "Requirement already satisfied: pytest<8.0.0,>=7.4.0 in /opt/miniconda3/envs/winterurp/lib/python3.10/site-packages (from moabb) (7.4.4)\n",
      "Requirement already satisfied: requests<3.0.0,>=2.28.1 in /opt/miniconda3/envs/winterurp/lib/python3.10/site-packages (from moabb) (2.32.3)\n",
      "Requirement already satisfied: scipy<2.0.0,>=1.9.3 in /opt/miniconda3/envs/winterurp/lib/python3.10/site-packages (from moabb) (1.15.1)\n",
      "Requirement already satisfied: seaborn<0.13.0,>=0.12.1 in /opt/miniconda3/envs/winterurp/lib/python3.10/site-packages (from moabb) (0.12.2)\n",
      "Requirement already satisfied: tqdm<5.0.0,>=4.64.1 in /opt/miniconda3/envs/winterurp/lib/python3.10/site-packages (from moabb) (4.67.1)\n",
      "Requirement already satisfied: urllib3<2.0.0,>=1.26.15 in /opt/miniconda3/envs/winterurp/lib/python3.10/site-packages (from moabb) (1.26.20)\n",
      "Requirement already satisfied: joblib>=1.2.0 in /opt/miniconda3/envs/winterurp/lib/python3.10/site-packages (from scikit-learn) (1.4.2)\n",
      "Requirement already satisfied: threadpoolctl>=3.1.0 in /opt/miniconda3/envs/winterurp/lib/python3.10/site-packages (from scikit-learn) (3.5.0)\n",
      "Requirement already satisfied: contourpy>=1.0.1 in /opt/miniconda3/envs/winterurp/lib/python3.10/site-packages (from matplotlib<4.0.0,>=3.6.2->moabb) (1.3.1)\n",
      "Requirement already satisfied: cycler>=0.10 in /opt/miniconda3/envs/winterurp/lib/python3.10/site-packages (from matplotlib<4.0.0,>=3.6.2->moabb) (0.12.1)\n",
      "Requirement already satisfied: fonttools>=4.22.0 in /opt/miniconda3/envs/winterurp/lib/python3.10/site-packages (from matplotlib<4.0.0,>=3.6.2->moabb) (4.55.3)\n",
      "Requirement already satisfied: kiwisolver>=1.3.1 in /opt/miniconda3/envs/winterurp/lib/python3.10/site-packages (from matplotlib<4.0.0,>=3.6.2->moabb) (1.4.8)\n",
      "Requirement already satisfied: packaging>=20.0 in /opt/miniconda3/envs/winterurp/lib/python3.10/site-packages (from matplotlib<4.0.0,>=3.6.2->moabb) (24.2)\n",
      "Requirement already satisfied: pillow>=8 in /opt/miniconda3/envs/winterurp/lib/python3.10/site-packages (from matplotlib<4.0.0,>=3.6.2->moabb) (11.1.0)\n",
      "Requirement already satisfied: pyparsing>=2.3.1 in /opt/miniconda3/envs/winterurp/lib/python3.10/site-packages (from matplotlib<4.0.0,>=3.6.2->moabb) (3.2.1)\n",
      "Requirement already satisfied: python-dateutil>=2.7 in /opt/miniconda3/envs/winterurp/lib/python3.10/site-packages (from matplotlib<4.0.0,>=3.6.2->moabb) (2.9.0.post0)\n",
      "Requirement already satisfied: psutil in /opt/miniconda3/envs/winterurp/lib/python3.10/site-packages (from memory-profiler<0.62.0,>=0.61.0->moabb) (5.9.0)\n",
      "Requirement already satisfied: decorator in /opt/miniconda3/envs/winterurp/lib/python3.10/site-packages (from mne<2.0.0,>=1.7.0->moabb) (5.1.1)\n",
      "Requirement already satisfied: jinja2 in /opt/miniconda3/envs/winterurp/lib/python3.10/site-packages (from mne<2.0.0,>=1.7.0->moabb) (3.1.5)\n",
      "Requirement already satisfied: lazy-loader>=0.3 in /opt/miniconda3/envs/winterurp/lib/python3.10/site-packages (from mne<2.0.0,>=1.7.0->moabb) (0.4)\n",
      "Requirement already satisfied: pytz>=2020.1 in /opt/miniconda3/envs/winterurp/lib/python3.10/site-packages (from pandas<2.0.0,>=1.5.2->moabb) (2024.2)\n",
      "Requirement already satisfied: platformdirs>=2.5.0 in /opt/miniconda3/envs/winterurp/lib/python3.10/site-packages (from pooch<2.0.0,>=1.6.0->moabb) (3.10.0)\n",
      "Requirement already satisfied: iniconfig in /opt/miniconda3/envs/winterurp/lib/python3.10/site-packages (from pytest<8.0.0,>=7.4.0->moabb) (2.0.0)\n",
      "Requirement already satisfied: pluggy<2.0,>=0.12 in /opt/miniconda3/envs/winterurp/lib/python3.10/site-packages (from pytest<8.0.0,>=7.4.0->moabb) (1.5.0)\n",
      "Requirement already satisfied: exceptiongroup>=1.0.0rc8 in /opt/miniconda3/envs/winterurp/lib/python3.10/site-packages (from pytest<8.0.0,>=7.4.0->moabb) (1.2.2)\n",
      "Requirement already satisfied: tomli>=1.0.0 in /opt/miniconda3/envs/winterurp/lib/python3.10/site-packages (from pytest<8.0.0,>=7.4.0->moabb) (2.2.1)\n",
      "Requirement already satisfied: charset-normalizer<4,>=2 in /opt/miniconda3/envs/winterurp/lib/python3.10/site-packages (from requests<3.0.0,>=2.28.1->moabb) (3.4.1)\n",
      "Requirement already satisfied: idna<4,>=2.5 in /opt/miniconda3/envs/winterurp/lib/python3.10/site-packages (from requests<3.0.0,>=2.28.1->moabb) (3.10)\n",
      "Requirement already satisfied: certifi>=2017.4.17 in /opt/miniconda3/envs/winterurp/lib/python3.10/site-packages (from requests<3.0.0,>=2.28.1->moabb) (2024.12.14)\n",
      "Requirement already satisfied: six>=1.5 in /opt/miniconda3/envs/winterurp/lib/python3.10/site-packages (from python-dateutil>=2.7->matplotlib<4.0.0,>=3.6.2->moabb) (1.16.0)\n",
      "Requirement already satisfied: MarkupSafe>=2.0 in /opt/miniconda3/envs/winterurp/lib/python3.10/site-packages (from jinja2->mne<2.0.0,>=1.7.0->moabb) (3.0.2)\n",
      "Note: you may need to restart the kernel to use updated packages.\n"
     ]
    }
   ],
   "source": [
    "pip install moabb numpy scikit-learn"
   ]
  },
  {
   "cell_type": "code",
   "execution_count": 2,
   "id": "3ea0222f-023f-49c8-bde3-ca0a2cdfc8f6",
   "metadata": {},
   "outputs": [],
   "source": [
    "import numpy as np\n",
    "from moabb.datasets import Cho2017\n",
    "from moabb.paradigms import LeftRightImagery\n",
    "from sklearn.model_selection import train_test_split\n",
    "from sklearn.linear_model import LogisticRegression\n",
    "from sklearn.metrics import accuracy_score, classification_report"
   ]
  },
  {
   "cell_type": "code",
   "execution_count": 3,
   "id": "5dadaf4b-5e0a-4aee-80c4-6f75f2471586",
   "metadata": {},
   "outputs": [],
   "source": [
    "# Cho2017 데이터셋 로드\n",
    "dataset = Cho2017()\n",
    "paradigm = LeftRightImagery(resample=128)  # 샘플링 주파수를 128Hz로 재조정"
   ]
  },
  {
   "cell_type": "code",
   "execution_count": 4,
   "id": "988df59f-e3ed-4304-a816-b094467d27cc",
   "metadata": {},
   "outputs": [
    {
     "name": "stdout",
     "output_type": "stream",
     "text": [
      "MNE_DATA is not already configured. It will be set to default location in the home directory - /Users/seongjunhong/mne_data\n",
      "All datasets will be downloaded to this location, if anything is already downloaded, please move manually to this location\n",
      "Attempting to create new mne-python configuration file:\n",
      "/Users/seongjunhong/.mne/mne-python.json\n"
     ]
    },
    {
     "name": "stderr",
     "output_type": "stream",
     "text": [
      "/opt/miniconda3/envs/winterurp/lib/python3.10/site-packages/moabb/datasets/download.py:55: RuntimeWarning: Setting non-standard config type: \"MNE_DATASETS_GIGADB_PATH\"\n",
      "  set_config(key, get_config(\"MNE_DATA\"))\n",
      "Downloading data from 'https://s3.ap-northeast-1.wasabisys.com/gigadb-datasets/live/pub/10.5524/100001_101000/100295/mat_data/s01.mat' to file '/Users/seongjunhong/mne_data/MNE-gigadb-data/gigadb-datasets/live/pub/10.5524/100001_101000/100295/mat_data/s01.mat'.\n",
      "/opt/miniconda3/envs/winterurp/lib/python3.10/site-packages/urllib3/connectionpool.py:1064: InsecureRequestWarning: Unverified HTTPS request is being made to host 's3.ap-northeast-1.wasabisys.com'. Adding certificate verification is strongly advised. See: https://urllib3.readthedocs.io/en/1.26.x/advanced-usage.html#ssl-warnings\n",
      "  warnings.warn(\n",
      "100%|████████████████████████████████████████| 203M/203M [00:00<00:00, 122GB/s]\n",
      "SHA256 hash of downloaded file: 57f2f10056b3c240adc78324872597d9b06b282df537a7763e98467275efe6db\n",
      "Use this value as the 'known_hash' argument of 'pooch.retrieve' to ensure that the file hasn't changed if it is downloaded again in the future.\n",
      "Trials demeaned and stacked with zero buffer to create continuous data -- edge effects present\n",
      "/opt/miniconda3/envs/winterurp/lib/python3.10/site-packages/moabb/datasets/preprocessing.py:279: UserWarning: warnEpochs <Epochs | 200 events (all good), 0 – 3 s (baseline off), ~150.2 MiB, data loaded,\n",
      " 'left_hand': 100\n",
      " 'right_hand': 100>\n",
      "  warn(f\"warnEpochs {epochs}\")\n",
      "/opt/miniconda3/envs/winterurp/lib/python3.10/site-packages/sklearn/pipeline.py:62: FutureWarning: This Pipeline instance is not fitted yet. Call 'fit' with appropriate arguments before using other methods such as transform, predict, etc. This will raise an error in 1.8 instead of the current warning.\n",
      "  warnings.warn(\n"
     ]
    },
    {
     "name": "stdout",
     "output_type": "stream",
     "text": [
      "데이터 형태: (200, 64, 384)\n",
      "레이블 형태: (200,)\n",
      "메타데이터 샘플:    subject session run\n",
      "0        1       0   0\n",
      "1        1       0   0\n",
      "2        1       0   0\n",
      "3        1       0   0\n",
      "4        1       0   0\n"
     ]
    }
   ],
   "source": [
    "# 첫 번째 피실험자의 데이터 가져오기\n",
    "X, y, metadata = paradigm.get_data(dataset=dataset, subjects=[1])\n",
    "\n",
    "# 데이터 확인\n",
    "print(\"데이터 형태:\", X.shape)\n",
    "print(\"레이블 형태:\", y.shape)\n",
    "print(\"메타데이터 샘플:\", metadata.head())"
   ]
  },
  {
   "cell_type": "code",
   "execution_count": 5,
   "id": "23fd2f83-babd-489f-8fb9-853c6234dd2f",
   "metadata": {},
   "outputs": [
    {
     "name": "stdout",
     "output_type": "stream",
     "text": [
      "최종 입력 데이터 형태: (200, 3)\n"
     ]
    }
   ],
   "source": [
    "# C3와 C4 채널 인덱스 (Cho2017 기준: C3=13, C4=54)\n",
    "C3_index, C4_index = 13, 54\n",
    "\n",
    "# C3와 C4 데이터 추출\n",
    "C3_data = X[:, C3_index, :]\n",
    "C4_data = X[:, C4_index, :]\n",
    "\n",
    "# 각 채널의 평균, 표준편차 계산 및 차이\n",
    "C3_mean = np.mean(C3_data, axis=1)\n",
    "C4_mean = np.mean(C4_data, axis=1)\n",
    "C3_C4_diff = C3_mean - C4_mean\n",
    "\n",
    "# 최종 데이터 구성\n",
    "final_features = np.column_stack((C3_mean, C4_mean, C3_C4_diff))ㅂ\n",
    "\n",
    "print(\"최종 입력 데이터 형태:\", final_features.shape)"
   ]
  },
  {
   "cell_type": "code",
   "execution_count": 6,
   "id": "c4d433e8-d968-41dc-aa42-3f4ab9c970b5",
   "metadata": {},
   "outputs": [
    {
     "name": "stdout",
     "output_type": "stream",
     "text": [
      "정확도: 0.48333333333333334\n",
      "분류 리포트:\n",
      "               precision    recall  f1-score   support\n",
      "\n",
      "   left_hand       0.50      0.48      0.49        31\n",
      "  right_hand       0.47      0.48      0.47        29\n",
      "\n",
      "    accuracy                           0.48        60\n",
      "   macro avg       0.48      0.48      0.48        60\n",
      "weighted avg       0.48      0.48      0.48        60\n",
      "\n"
     ]
    }
   ],
   "source": [
    "# 학습 데이터 분리\n",
    "X_train, X_test, y_train, y_test = train_test_split(final_features, y, test_size=0.3, random_state=42)\n",
    "\n",
    "# Logistic Regression 모델 학습\n",
    "model = LogisticRegression()\n",
    "model.fit(X_train, y_train)\n",
    "\n",
    "# 모델 평가\n",
    "y_pred = model.predict(X_test)\n",
    "print(\"정확도:\", accuracy_score(y_test, y_pred))\n",
    "print(\"분류 리포트:\\n\", classification_report(y_test, y_pred))"
   ]
  },
  {
   "cell_type": "code",
   "execution_count": 12,
   "id": "caba9463-978d-48cb-9635-2715033870d3",
   "metadata": {},
   "outputs": [
    {
     "name": "stdout",
     "output_type": "stream",
     "text": [
      "최종 입력 데이터 형태: (200, 3)\n"
     ]
    }
   ],
   "source": [
    "# C3와 C4 채널 인덱스 (Cho2017 기준: C3=13, C4=54)\n",
    "C3_index, C4_index = 12, 53\n",
    "\n",
    "# C3와 C4 데이터 추출\n",
    "C3_data = X[:, C3_index, :]\n",
    "C4_data = X[:, C4_index, :]\n",
    "\n",
    "# 각 채널의 평균, 표준편차 계산 및 차이\n",
    "C3_mean = np.mean(C3_data, axis=1)\n",
    "C4_mean = np.mean(C4_data, axis=1)\n",
    "C3_C4_diff = C3_mean - C4_mean\n",
    "\n",
    "# 최종 데이터 구성\n",
    "final_features = np.column_stack((C3_mean, C4_mean, C3_C4_diff))\n",
    "\n",
    "print(\"최종 입력 데이터 형태:\", final_features.shape)"
   ]
  },
  {
   "cell_type": "code",
   "execution_count": 13,
   "id": "4faaf13d-8308-4c5d-a406-464109a448d4",
   "metadata": {},
   "outputs": [
    {
     "name": "stdout",
     "output_type": "stream",
     "text": [
      "정확도: 0.5666666666666667\n",
      "분류 리포트:\n",
      "               precision    recall  f1-score   support\n",
      "\n",
      "   left_hand       0.59      0.55      0.57        31\n",
      "  right_hand       0.55      0.59      0.57        29\n",
      "\n",
      "    accuracy                           0.57        60\n",
      "   macro avg       0.57      0.57      0.57        60\n",
      "weighted avg       0.57      0.57      0.57        60\n",
      "\n"
     ]
    }
   ],
   "source": [
    "# 학습 데이터 분리\n",
    "X_train, X_test, y_train, y_test = train_test_split(final_features, y, test_size=0.3, random_state=42)\n",
    "\n",
    "# Logistic Regression 모델 학습\n",
    "model = LogisticRegression()\n",
    "model.fit(X_train, y_train)\n",
    "\n",
    "# 모델 평가\n",
    "y_pred = model.predict(X_test)\n",
    "print(\"정확도:\", accuracy_score(y_test, y_pred))\n",
    "print(\"분류 리포트:\\n\", classification_report(y_test, y_pred))"
   ]
  },
  {
   "cell_type": "code",
   "execution_count": 14,
   "id": "69bd9a89-d611-4b9a-a4eb-772546806713",
   "metadata": {},
   "outputs": [
    {
     "name": "stdout",
     "output_type": "stream",
     "text": [
      "정확도: 0.5666666666666667\n",
      "분류 리포트:\n",
      "               precision    recall  f1-score   support\n",
      "\n",
      "   left_hand       0.59      0.55      0.57        31\n",
      "  right_hand       0.55      0.59      0.57        29\n",
      "\n",
      "    accuracy                           0.57        60\n",
      "   macro avg       0.57      0.57      0.57        60\n",
      "weighted avg       0.57      0.57      0.57        60\n",
      "\n"
     ]
    }
   ],
   "source": [
    "# 학습 데이터 분리\n",
    "X_train, X_test, y_train, y_test = train_test_split(final_features, y, test_size=0.3, random_state=42)\n",
    "\n",
    "# Logistic Regression 모델 학습\n",
    "model = LogisticRegression()\n",
    "model.fit(X_train, y_train)\n",
    "\n",
    "# 모델 평가\n",
    "y_pred = model.predict(X_test)\n",
    "print(\"정확도:\", accuracy_score(y_test, y_pred))\n",
    "print(\"분류 리포트:\\n\", classification_report(y_test, y_pred))"
   ]
  },
  {
   "cell_type": "code",
   "execution_count": 15,
   "id": "469b623b-d38d-4fa3-a1b1-f5753ac0612c",
   "metadata": {},
   "outputs": [
    {
     "name": "stdout",
     "output_type": "stream",
     "text": [
      "최종 입력 데이터 형태: (200, 3)\n"
     ]
    }
   ],
   "source": [
    "# C3와 C4 채널 인덱스 (Cho2017 기준: C3=13, C4=54)\n",
    "C3_index, C4_index = 13, 54\n",
    "\n",
    "# C3와 C4 데이터 추출\n",
    "C3_data = X[:, C3_index, :]\n",
    "C4_data = X[:, C4_index, :]\n",
    "\n",
    "# 각 채널의 평균, 표준편차 계산 및 차이\n",
    "C3_mean = np.mean(C3_data, axis=1)\n",
    "C4_mean = np.mean(C4_data, axis=1)\n",
    "C3_C4_diff = C3_mean - C4_mean\n",
    "\n",
    "# 최종 데이터 구성\n",
    "final_features = np.column_stack((C3_mean, C4_mean, C3_C4_diff))\n",
    "\n",
    "print(\"최종 입력 데이터 형태:\", final_features.shape)"
   ]
  },
  {
   "cell_type": "code",
   "execution_count": 16,
   "id": "2a8aadb2-0c6b-4d41-a3e0-f6dce81ae074",
   "metadata": {},
   "outputs": [
    {
     "name": "stdout",
     "output_type": "stream",
     "text": [
      "정확도: 0.5666666666666667\n",
      "분류 리포트:\n",
      "               precision    recall  f1-score   support\n",
      "\n",
      "   left_hand       0.59      0.55      0.57        31\n",
      "  right_hand       0.55      0.59      0.57        29\n",
      "\n",
      "    accuracy                           0.57        60\n",
      "   macro avg       0.57      0.57      0.57        60\n",
      "weighted avg       0.57      0.57      0.57        60\n",
      "\n"
     ]
    }
   ],
   "source": [
    "# 학습 데이터 분리\n",
    "X_train, X_test, y_train, y_test = train_test_split(final_features, y, test_size=0.3, random_state=42)\n",
    "\n",
    "# Logistic Regression 모델 학습\n",
    "model = LogisticRegression()\n",
    "model.fit(X_train, y_train)\n",
    "\n",
    "# 모델 평가\n",
    "y_pred = model.predict(X_test)\n",
    "print(\"정확도:\", accuracy_score(y_test, y_pred))\n",
    "print(\"분류 리포트:\\n\", classification_report(y_test, y_pred))"
   ]
  },
  {
   "cell_type": "code",
   "execution_count": 17,
   "id": "366cabd6-733b-4fe2-870b-fe210e2a343d",
   "metadata": {},
   "outputs": [
    {
     "name": "stdout",
     "output_type": "stream",
     "text": [
      "최종 입력 데이터 형태: (200, 3)\n"
     ]
    }
   ],
   "source": [
    "# C3와 C4 채널 인덱스 (Cho2017 기준: C3=13, C4=54 이라서 1씩 빼줌)\n",
    "C3_index, C4_index = 12, 53\n",
    "\n",
    "# C3와 C4 데이터 추출\n",
    "C3_data = X[:, C3_index, :]\n",
    "C4_data = X[:, C4_index, :]\n",
    "\n",
    "# 각 채널의 평균, 표준편차 계산 및 차이\n",
    "C3_mean = np.mean(C3_data, axis=1)\n",
    "C4_mean = np.mean(C4_data, axis=1)\n",
    "C3_C4_diff = C3_mean - C4_mean\n",
    "\n",
    "# 최종 데이터 구성\n",
    "final_features = np.column_stack((C3_mean, C4_mean, C3_C4_diff))\n",
    "\n",
    "print(\"최종 입력 데이터 형태:\", final_features.shape)"
   ]
  },
  {
   "cell_type": "code",
   "execution_count": 18,
   "id": "31d96310-016c-44ec-82eb-909e13a6779c",
   "metadata": {},
   "outputs": [
    {
     "name": "stdout",
     "output_type": "stream",
     "text": [
      "정확도: 0.48333333333333334\n",
      "분류 리포트:\n",
      "               precision    recall  f1-score   support\n",
      "\n",
      "   left_hand       0.50      0.39      0.44        31\n",
      "  right_hand       0.47      0.59      0.52        29\n",
      "\n",
      "    accuracy                           0.48        60\n",
      "   macro avg       0.49      0.49      0.48        60\n",
      "weighted avg       0.49      0.48      0.48        60\n",
      "\n"
     ]
    }
   ],
   "source": [
    "# 학습 데이터 분리\n",
    "X_train, X_test, y_train, y_test = train_test_split(final_features, y, test_size=0.3, random_state=42)\n",
    "\n",
    "# Logistic Regression 모델 학습\n",
    "model = LogisticRegression()\n",
    "model.fit(X_train, y_train)\n",
    "\n",
    "# 모델 평가\n",
    "y_pred = model.predict(X_test)\n",
    "print(\"정확도:\", accuracy_score(y_test, y_pred))\n",
    "print(\"분류 리포트:\\n\", classification_report(y_test, y_pred))"
   ]
  },
  {
   "cell_type": "code",
   "execution_count": 19,
   "id": "7e34a3a7-3341-44ba-83c4-5f9ac269d966",
   "metadata": {},
   "outputs": [
    {
     "name": "stdout",
     "output_type": "stream",
     "text": [
      "정확도: 0.45\n",
      "분류 리포트:\n",
      "               precision    recall  f1-score   support\n",
      "\n",
      "   left_hand       0.47      0.43      0.45        21\n",
      "  right_hand       0.43      0.47      0.45        19\n",
      "\n",
      "    accuracy                           0.45        40\n",
      "   macro avg       0.45      0.45      0.45        40\n",
      "weighted avg       0.45      0.45      0.45        40\n",
      "\n"
     ]
    }
   ],
   "source": [
    "# 학습 데이터 분리\n",
    "X_train, X_test, y_train, y_test = train_test_split(final_features, y, test_size=0.2, random_state=42)\n",
    "\n",
    "# Logistic Regression 모델 학습\n",
    "model = LogisticRegression()\n",
    "model.fit(X_train, y_train)\n",
    "\n",
    "# 모델 평가\n",
    "y_pred = model.predict(X_test)\n",
    "print(\"정확도:\", accuracy_score(y_test, y_pred))\n",
    "print(\"분류 리포트:\\n\", classification_report(y_test, y_pred))"
   ]
  },
  {
   "cell_type": "code",
   "execution_count": 20,
   "id": "dacc155b-4a93-48d2-b38f-a38b9c504f50",
   "metadata": {},
   "outputs": [
    {
     "name": "stdout",
     "output_type": "stream",
     "text": [
      "정확도: 0.48333333333333334\n",
      "분류 리포트:\n",
      "               precision    recall  f1-score   support\n",
      "\n",
      "   left_hand       0.50      0.39      0.44        31\n",
      "  right_hand       0.47      0.59      0.52        29\n",
      "\n",
      "    accuracy                           0.48        60\n",
      "   macro avg       0.49      0.49      0.48        60\n",
      "weighted avg       0.49      0.48      0.48        60\n",
      "\n"
     ]
    }
   ],
   "source": [
    "# 학습 데이터 분리\n",
    "X_train, X_test, y_train, y_test = train_test_split(final_features, y, test_size=0.3, random_state=42)\n",
    "\n",
    "# Logistic Regression 모델 학습\n",
    "model = LogisticRegression()\n",
    "model.fit(X_train, y_train)\n",
    "\n",
    "# 모델 평가\n",
    "y_pred = model.predict(X_test)\n",
    "print(\"정확도:\", accuracy_score(y_test, y_pred))\n",
    "print(\"분류 리포트:\\n\", classification_report(y_test, y_pred))"
   ]
  }
 ],
 "metadata": {
  "kernelspec": {
   "display_name": "Python [conda env:winterurp] *",
   "language": "python",
   "name": "conda-env-winterurp-py"
  },
  "language_info": {
   "codemirror_mode": {
    "name": "ipython",
    "version": 3
   },
   "file_extension": ".py",
   "mimetype": "text/x-python",
   "name": "python",
   "nbconvert_exporter": "python",
   "pygments_lexer": "ipython3",
   "version": "3.10.16"
  }
 },
 "nbformat": 4,
 "nbformat_minor": 5
}
